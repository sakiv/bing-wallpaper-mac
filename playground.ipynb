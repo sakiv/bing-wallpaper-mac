{
 "cells": [
  {
   "cell_type": "code",
   "execution_count": 3,
   "metadata": {
    "dotnet_interactive": {
     "language": "csharp"
    },
    "polyglot_notebook": {
     "kernelName": "csharp"
    },
    "vscode": {
     "languageId": "shellscript"
    }
   },
   "outputs": [
    {
     "name": "stdout",
     "output_type": "stream",
     "text": [
      "Downloading: /Users/sakiv/Pictures/Bing-Wallpapers/bing-wallpaper-20231116.webp ...\n"
     ]
    }
   ],
   "source": [
    "%%bash\n",
    "#!/usr/bin/env bash\n",
    " \n",
    "PICTURE_DIR=\"$HOME/Pictures/Bing-Wallpapers\"\n",
    " \n",
    "mkdir -p $PICTURE_DIR\n",
    "\n",
    "urls=( $(curl -sSL https://www.bing.com | \\\n",
    "    grep -Eo 'g_img={url:\\s*\".*?\"' | \\\n",
    "\tsed -e 's/g_img={url:\\s*\"//g' | \\\n",
    "\tsed -e 's/\"//g' | \\\n",
    "\tsed -e 's/\\\\\\u0026/\\&/g' ) )\n",
    "\n",
    "if [ \"$urls\" = \"\" ]\n",
    "then   \n",
    "\turls=( $(curl -sSL https://www.bing.com | \\\n",
    "    \tgrep -Eo 'g_img={url:\\s*\".*?\"' | \\\n",
    "\t\tsed -e 's/g_img={url:\\s*\"\\([^\"]*\\)\".*/http:\\/\\/bing.com\\1/' | \\\n",
    "\t\tsed -e 's/\\\\//g' | \\\n",
    "\t\tsed -e 's/\\\\\\u0026/\\&/g' ) )\n",
    "fi\n",
    "\n",
    "if [ \"$urls\" = \"\" ]\n",
    "then\t\n",
    "\turls=( $(curl -sSL https://www.bing.com | \\\n",
    "    \tgrep -Eo 'background-image: url\\(.*\\.jpg\\)' | \\\n",
    "\t\tsed -e 's/background-image: url(//g' | \\\n",
    "\t\tsed -e 's/)//g' ) )\n",
    "fi\n",
    "\n",
    "if [ \"$urls\" = \"\" ]\n",
    "then \n",
    "    urls=( $(curl -sSL https://www.bing.com | \\\n",
    "        grep -Eo '<link rel=\"preload\" href=\".*&' | \\\n",
    "        sed -e 's/<link rel=\"preload\" href=\"//g' | \\\n",
    "        sed -e 's/&.*//g' ) )\n",
    "fi\n",
    "\n",
    "if [ \"$urls\" = \"\" ]\n",
    "then \n",
    "    urls=( $(curl -sSL https://www.bing.com | \\\n",
    "        grep -Eo '<meta property=\"og:image\" content=\".*&' | \\\n",
    "        sed -e 's/<meta property=\"og:image\" content=\"//g' | \\\n",
    "        sed -e 's/&.*//g' ) )\n",
    "fi\n",
    "\n",
    "if [ \"$urls\" != \"\" ]\n",
    "then\n",
    "\n",
    "    if [[ $urls = //* ]]\n",
    "    then\n",
    "        urls=\"http:$urls\"\n",
    "    elif [[ $urls != http* ]]\n",
    "    then\n",
    "        urls=\"http://www.bing.com$urls\"\n",
    "    fi\n",
    " \n",
    "    # Remove all files in the directory\n",
    "    # rm -Rf $PICTURE_DIR/*.*\n",
    "\n",
    "    # Remove files older than 6 days\n",
    "    find $PICTURE_DIR -type f -mtime +6 -print0 | xargs -r0 rm --\n",
    " \n",
    "    today=$(date +%Y%m%d)\n",
    "\n",
    "    # Use this for today's Bing Wallpaper \n",
    "    file_ext=$(echo $urls|sed -e \"s/.*\\/\\(.*\\)/\\1/\"|sed -e \"s/.*\\.//g\")\n",
    "    filename=\"$PICTURE_DIR/bing-wallpaper-$today.$file_ext\"    \n",
    "    echo \"Downloading: $filename ...\"\n",
    "    curl -sSLo $filename $urls  \n",
    "         \n",
    "    # # Use this for today's and next day's Bing Wallpaper -- Not working anymore\n",
    "      \n",
    "    # for p in ${urls[@]}; do\n",
    "    #     filename=$(echo $p|sed -e \"s/.*\\/\\(.*\\)/\\1/\")\n",
    "    #     if [ ! -f $PICTURE_DIR/$filename ]; then\n",
    "    #         echo \"Downloading: $filename ...\"\n",
    "    #         file_ext = $filename | sed -e \"s/.*\\.//g\"\n",
    "    #         curl -sSLo \"$PICTURE_DIR/bing-wallpaper-$today.$file_ext\" $p\n",
    "    #     else\n",
    "    #         echo \"Skipping: $filename ...\"\n",
    "    #     fi\n",
    "    # done\n",
    " \n",
    "    killall Dock\n",
    "    exit 0\n",
    "fi\n",
    "echo \"We could not download the image, please report the issue here - https://github.com/sakiv/bing-wallpaper-mac/issues\" \n",
    "exit 99"
   ]
  }
 ],
 "metadata": {
  "kernelspec": {
   "display_name": "Python 3",
   "language": "python",
   "name": "python3"
  },
  "language_info": {
   "codemirror_mode": {
    "name": "ipython",
    "version": 3
   },
   "file_extension": ".py",
   "mimetype": "text/x-python",
   "name": "python",
   "nbconvert_exporter": "python",
   "pygments_lexer": "ipython3",
   "version": "3.11.5"
  },
  "polyglot_notebook": {
   "kernelInfo": {
    "defaultKernelName": "csharp",
    "items": [
     {
      "aliases": [],
      "name": "csharp"
     }
    ]
   }
  }
 },
 "nbformat": 4,
 "nbformat_minor": 2
}
